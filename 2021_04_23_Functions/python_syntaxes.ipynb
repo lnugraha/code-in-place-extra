{
 "cells": [
  {
   "cell_type": "markdown",
   "id": "3380bdaf",
   "metadata": {},
   "source": [
    "## April 25, 2021 ##\n",
    "\n",
    "Dear all,\n",
    "\n",
    "The following notebook covers necessary syntaxes in Python, mainly about repetition (for-loop and while-loop) and conditionals (if-else and if-else if)\n",
    "\n",
    "I wrote this code using Jupyter Notebook, feel free to test each block and see if you get the same results as mine."
   ]
  },
  {
   "cell_type": "markdown",
   "id": "e0fbdf3e",
   "metadata": {},
   "source": [
    "## Part 1: For Loop ##\n",
    "\n",
    "a. For-Loop that increments by one\n",
    "\n",
    "b. For-Loop that increment with more than one\n",
    "\n",
    "c. For-Loop that decrements by one (counting down)\n",
    "\n",
    "d. For-Loop that decrements with more than one\n",
    "\n",
    "e. For-Loop through a container"
   ]
  },
  {
   "cell_type": "code",
   "execution_count": 4,
   "id": "63f76ae4",
   "metadata": {},
   "outputs": [
    {
     "name": "stdout",
     "output_type": "stream",
     "text": [
      "The counter is at 0\n",
      "The counter is at 1\n",
      "The counter is at 2\n",
      "The counter is at 3\n",
      "The counter is at 4\n"
     ]
    }
   ],
   "source": [
    "## a. For-Loop that increments by one\n",
    "for i in range(5):\n",
    "    print(\"The counter is at {}\".format(i))"
   ]
  },
  {
   "cell_type": "code",
   "execution_count": 7,
   "id": "0e6fe893",
   "metadata": {},
   "outputs": [
    {
     "name": "stdout",
     "output_type": "stream",
     "text": [
      "The counter is at 0\n",
      "The counter is at 2\n",
      "The counter is at 4\n",
      "The counter is at 6\n",
      "The counter is at 8\n"
     ]
    }
   ],
   "source": [
    "## b. For-Loop that increments by more than one\n",
    "step = 2\n",
    "## In this case, three arguments are required: starting point, ending point, and increment value\n",
    "for i in range(0, 10, step):\n",
    "    print(\"The counter is at {}\".format(i))"
   ]
  },
  {
   "cell_type": "code",
   "execution_count": 8,
   "id": "2cc51032",
   "metadata": {},
   "outputs": [
    {
     "name": "stdout",
     "output_type": "stream",
     "text": [
      "The counter is at 10\n",
      "The counter is at 9\n",
      "The counter is at 8\n",
      "The counter is at 7\n",
      "The counter is at 6\n",
      "The counter is at 5\n",
      "The counter is at 4\n",
      "The counter is at 3\n",
      "The counter is at 2\n",
      "The counter is at 1\n"
     ]
    }
   ],
   "source": [
    "## c. For-Loop that decrements by one\n",
    "step = -1\n",
    "for i in range(10, 0, step):\n",
    "    print(\"The counter is at {}\".format(i))"
   ]
  },
  {
   "cell_type": "code",
   "execution_count": 16,
   "id": "1e7b0068",
   "metadata": {},
   "outputs": [
    {
     "name": "stdout",
     "output_type": "stream",
     "text": [
      "The counter is at 10\n",
      "The counter is at 8\n",
      "The counter is at 6\n",
      "The counter is at 4\n",
      "The counter is at 2\n"
     ]
    }
   ],
   "source": [
    "## d. For-Loop that decrements by more than one\n",
    "step = -2\n",
    "for i in range(10, 0, step):\n",
    "    print(\"The counter is at {}\".format(i))"
   ]
  },
  {
   "cell_type": "code",
   "execution_count": 17,
   "id": "c54402d8",
   "metadata": {},
   "outputs": [
    {
     "name": "stdout",
     "output_type": "stream",
     "text": [
      "The length of my container: 6\n",
      "The name of the fruit is Apple\n",
      "The name of the fruit is Banana\n",
      "The name of the fruit is Carrots\n",
      "The name of the fruit is Pineapple\n",
      "The name of the fruit is Grapes\n",
      "The name of the fruit is Lychee\n"
     ]
    }
   ],
   "source": [
    "## e. For-Loop through a container\n",
    "test_array = [\"Apple\", \"Banana\", \"Carrots\", \"Pineapple\", \"Grapes\", \"Lychee\"]\n",
    "\n",
    "print(\"The length of my container: {}\".format(len(test_array)))\n",
    "\n",
    "for i in range( len(test_array) ) :\n",
    "    print(\"The name of the fruit is {}\".format(test_array[i]))"
   ]
  },
  {
   "cell_type": "markdown",
   "id": "10cacee0",
   "metadata": {},
   "source": [
    "## Part 2: While Loop ##"
   ]
  },
  {
   "cell_type": "code",
   "execution_count": 24,
   "id": "ca3d9e5f",
   "metadata": {},
   "outputs": [
    {
     "name": "stdout",
     "output_type": "stream",
     "text": [
      "The counter is at 0\n",
      "The counter is at 1\n",
      "The counter is at 2\n",
      "The counter is at 3\n",
      "The counter is at 4\n",
      "The counter is at 5\n",
      "The counter is at 6\n",
      "The counter is at 7\n",
      "The counter is at 8\n",
      "The counter is at 9\n"
     ]
    }
   ],
   "source": [
    "## a. While-Loop that increments by one\n",
    "step = 1; final = 10; i = 0\n",
    "while i < final:\n",
    "    print(\"The counter is at {}\".format(i))\n",
    "    i = i+step    "
   ]
  },
  {
   "cell_type": "code",
   "execution_count": 25,
   "id": "b4393ffd",
   "metadata": {},
   "outputs": [
    {
     "name": "stdout",
     "output_type": "stream",
     "text": [
      "The counter is at 0\n",
      "The counter is at 2\n",
      "The counter is at 4\n",
      "The counter is at 6\n",
      "The counter is at 8\n"
     ]
    }
   ],
   "source": [
    "## b. While-Loop that increments by more than one\n",
    "step = 2; final = 10; i = 0\n",
    "while i < final:\n",
    "    print(\"The counter is at {}\".format(i))\n",
    "    i = i+step "
   ]
  },
  {
   "cell_type": "code",
   "execution_count": 27,
   "id": "3a60e6c6",
   "metadata": {},
   "outputs": [
    {
     "name": "stdout",
     "output_type": "stream",
     "text": [
      "The counter is at 10\n",
      "The counter is at 9\n",
      "The counter is at 8\n",
      "The counter is at 7\n",
      "The counter is at 6\n",
      "The counter is at 5\n",
      "The counter is at 4\n",
      "The counter is at 3\n",
      "The counter is at 2\n",
      "The counter is at 1\n"
     ]
    }
   ],
   "source": [
    "## c. While-Loop that decrements by one\n",
    "step = -1; final = 0; i = 10\n",
    "while i > final:\n",
    "    print(\"The counter is at {}\".format(i))\n",
    "    i = i+step "
   ]
  },
  {
   "cell_type": "code",
   "execution_count": 28,
   "id": "f169fd7e",
   "metadata": {},
   "outputs": [
    {
     "name": "stdout",
     "output_type": "stream",
     "text": [
      "The counter is at 10\n",
      "The counter is at 8\n",
      "The counter is at 6\n",
      "The counter is at 4\n",
      "The counter is at 2\n"
     ]
    }
   ],
   "source": [
    "## d. While-Loop that decrements by more than one\n",
    "step = -2; final = 0; i = 10\n",
    "while i > final:\n",
    "    print(\"The counter is at {}\".format(i))\n",
    "    i = i+step "
   ]
  },
  {
   "cell_type": "code",
   "execution_count": 22,
   "id": "8d0d7763",
   "metadata": {},
   "outputs": [
    {
     "name": "stdout",
     "output_type": "stream",
     "text": [
      "The length of my container: 6\n",
      "The name of the fruit is Apple\n",
      "The name of the fruit is Banana\n",
      "The name of the fruit is Carrots\n",
      "The name of the fruit is Pineapple\n",
      "The name of the fruit is Grapes\n",
      "The name of the fruit is Lychee\n"
     ]
    }
   ],
   "source": [
    "## e. While-Loop through a container (list or array)\n",
    "test_array = [\"Apple\", \"Banana\", \"Carrots\", \"Pineapple\", \"Grapes\", \"Lychee\"]\n",
    "print(\"The length of my container: {}\".format(len(test_array)))\n",
    "\n",
    "i = 0 # Declare a counter and do not forget to set its initial value\n",
    "while i < len(test_array):\n",
    "    print(\"The name of the fruit is {}\".format(test_array[i]))\n",
    "    i = i+1 # Make sure to increment the counter or otherwise the while loop runs in infinite loop"
   ]
  },
  {
   "cell_type": "markdown",
   "id": "5d012ad6",
   "metadata": {},
   "source": [
    "## Part 3: If-Else Conditional ##"
   ]
  },
  {
   "cell_type": "code",
   "execution_count": null,
   "id": "c8fc79de",
   "metadata": {},
   "outputs": [],
   "source": []
  },
  {
   "cell_type": "code",
   "execution_count": null,
   "id": "40008677",
   "metadata": {},
   "outputs": [],
   "source": []
  },
  {
   "cell_type": "markdown",
   "id": "591cc616",
   "metadata": {},
   "source": [
    "## Part 4: If-Else If Conditional ##"
   ]
  },
  {
   "cell_type": "code",
   "execution_count": null,
   "id": "7fbdb01c",
   "metadata": {},
   "outputs": [],
   "source": []
  },
  {
   "cell_type": "code",
   "execution_count": null,
   "id": "78a25ca5",
   "metadata": {},
   "outputs": [],
   "source": []
  }
 ],
 "metadata": {
  "kernelspec": {
   "display_name": "Python 3",
   "language": "python",
   "name": "python3"
  },
  "language_info": {
   "codemirror_mode": {
    "name": "ipython",
    "version": 3
   },
   "file_extension": ".py",
   "mimetype": "text/x-python",
   "name": "python",
   "nbconvert_exporter": "python",
   "pygments_lexer": "ipython3",
   "version": "3.8.9"
  }
 },
 "nbformat": 4,
 "nbformat_minor": 5
}
